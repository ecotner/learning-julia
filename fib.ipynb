{
 "cells": [
  {
   "cell_type": "markdown",
   "id": "730e84fd-bb73-45fa-ab81-ec6035422722",
   "metadata": {},
   "source": [
    "# Using Julia in Jupyter"
   ]
  },
  {
   "cell_type": "code",
   "execution_count": 1,
   "id": "fb8c1b2b-70b0-45d5-981e-2f0e4c4f6dc4",
   "metadata": {},
   "outputs": [
    {
     "data": {
      "text/plain": [
       "fib (generic function with 1 method)"
      ]
     },
     "execution_count": 1,
     "metadata": {},
     "output_type": "execute_result"
    }
   ],
   "source": [
    "# a simple fibonacci script\n",
    "function fib(n::Int)\n",
    "    n<0 && error(\"n must not be negative\")\n",
    "    n==1 && return 1\n",
    "    n==0 && return 1\n",
    "    fib(n-1) + fib(n-2)\n",
    "end"
   ]
  },
  {
   "cell_type": "code",
   "execution_count": 3,
   "id": "f7433d2f-c9db-494f-8a3e-df342d8c1e6f",
   "metadata": {},
   "outputs": [
    {
     "name": "stdout",
     "output_type": "stream",
     "text": [
      "fibonacci of 1 = 1\n",
      "fibonacci of 2 = 2\n",
      "fibonacci of 3 = 3\n",
      "fibonacci of 4 = 5\n",
      "fibonacci of 5 = 8\n",
      "fibonacci of 6 = 13\n",
      "fibonacci of 7 = 21\n",
      "fibonacci of 8 = 34\n",
      "fibonacci of 9 = 55\n",
      "fibonacci of 10 = 89\n"
     ]
    }
   ],
   "source": [
    "# execute fib in a for loop\n",
    "for i=1:10\n",
    "    println(string(\"fibonacci of \", i, \" = \", fib(i)))\n",
    "end"
   ]
  },
  {
   "cell_type": "code",
   "execution_count": null,
   "id": "535533f6-eb12-4dac-8acd-4430ce5a3d38",
   "metadata": {},
   "outputs": [],
   "source": []
  }
 ],
 "metadata": {
  "kernelspec": {
   "display_name": "Julia 1.6.1",
   "language": "julia",
   "name": "julia-1.6"
  },
  "language_info": {
   "file_extension": ".jl",
   "mimetype": "application/julia",
   "name": "julia",
   "version": "1.6.1"
  },
  "widgets": {
   "application/vnd.jupyter.widget-state+json": {
    "state": {},
    "version_major": 2,
    "version_minor": 0
   }
  }
 },
 "nbformat": 4,
 "nbformat_minor": 5
}
